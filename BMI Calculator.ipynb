{
 "cells": [
  {
   "cell_type": "code",
   "execution_count": null,
   "id": "112c484c",
   "metadata": {},
   "outputs": [],
   "source": [
    "name = input(\"Enter your name: \")\n",
    "\n",
    "weight = int(input(\"Enter your weight in KG: \"))\n",
    "\n",
    "\n",
    "\n",
    "height = float(input(\"Enter your height in meters: \"))\n",
    "\n",
    "\n",
    "BMI = (weight/height**2)\n",
    "\n",
    "print(BMI)\n",
    "\n",
    "\n",
    "if BMI>0:\n",
    "    if(BMI<10):\n",
    "        print(\"Enter valid input\")\n",
    "    elif(BMI<18.5):\n",
    "        print(name + \", you are underweight.\")\n",
    "    elif(BMI<=24.9):\n",
    "        print(name + \", you are normal weight.\")\n",
    "    elif(BMI<=29.9):\n",
    "        print(name + \", you are overweight.\")\n",
    "    elif(BMI<=34.9):\n",
    "        print(name + \", you are obese.\")\n",
    "    elif(BMI<=39.9):\n",
    "        print(name + \", you are severely obese.\")\n",
    "    else:\n",
    "        print(name + \", you are morbidly obese.\")\n",
    "        "
   ]
  },
  {
   "cell_type": "code",
   "execution_count": null,
   "id": "70d8d6ed",
   "metadata": {},
   "outputs": [],
   "source": []
  }
 ],
 "metadata": {
  "kernelspec": {
   "display_name": "Python 3 (ipykernel)",
   "language": "python",
   "name": "python3"
  },
  "language_info": {
   "codemirror_mode": {
    "name": "ipython",
    "version": 3
   },
   "file_extension": ".py",
   "mimetype": "text/x-python",
   "name": "python",
   "nbconvert_exporter": "python",
   "pygments_lexer": "ipython3",
   "version": "3.11.5"
  }
 },
 "nbformat": 4,
 "nbformat_minor": 5
}
